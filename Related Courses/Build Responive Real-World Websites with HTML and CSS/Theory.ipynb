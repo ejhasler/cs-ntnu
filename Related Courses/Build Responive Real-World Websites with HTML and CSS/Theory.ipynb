{
 "cells": [
  {
   "attachments": {},
   "cell_type": "markdown",
   "metadata": {},
   "source": [
    "# Build Responsive Real-World Websites with HTML and CSS\n",
    "\n",
    "### Content\n",
    "\n",
    "* HTML Fundamentals\n",
    "* CSS Fundamentals"
   ]
  },
  {
   "attachments": {},
   "cell_type": "markdown",
   "metadata": {},
   "source": [
    "### What is HTML ?\n",
    "\n",
    "* HyperText Markup Language\n",
    "* HTML is a markup language that web developers use to structure and\n",
    "  describe the content of a webpage (not a programming language)\n",
    "* HTML consist of elements that describe different types of content:\n",
    "  paragraphs, links, headings, images, video, etc.¨\n",
    "* Web browsers understand HTML and render HTML code as websites"
   ]
  },
  {
   "attachments": {},
   "cell_type": "markdown",
   "metadata": {},
   "source": [
    "### What is CSS?\n",
    "\n",
    "* Cascading Style Sheets\n",
    "* CSS describes the visual style and presentation\n",
    "of the content written in HTML\n",
    "* CSS consist of countless properties that developers use to format the content: properties about font, text, spacing, layout, etc."
   ]
  }
 ],
 "metadata": {
  "kernelspec": {
   "display_name": "Python 3",
   "language": "python",
   "name": "python3"
  },
  "language_info": {
   "name": "python",
   "version": "3.9.7 (tags/v3.9.7:1016ef3, Aug 30 2021, 20:19:38) [MSC v.1929 64 bit (AMD64)]"
  },
  "orig_nbformat": 4,
  "vscode": {
   "interpreter": {
    "hash": "11938c6bc6919ae2720b4d5011047913343b08a43b18698fd82dedb0d4417594"
   }
  }
 },
 "nbformat": 4,
 "nbformat_minor": 2
}
