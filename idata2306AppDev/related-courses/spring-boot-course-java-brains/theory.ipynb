{
 "cells": [
  {
   "attachments": {},
   "cell_type": "markdown",
   "metadata": {},
   "source": [
    "# Spring Boot Course\n",
    "\n",
    "#### Content\n",
    "* What is a Spring Boot ?\n",
    "* Building an end to end app\n",
    "* Spring Boot Features\n",
    "* Configuration and Customization"
   ]
  },
  {
   "attachments": {},
   "cell_type": "markdown",
   "metadata": {},
   "source": [
    "#### What is Spring Boot ?\n",
    "\n",
    "Spring Boot makes it easy to create stand-alone, production-grade Spring based Applications that you can \"just run\".\n",
    "\n",
    "##### What is Spring ?\n",
    "\n",
    "* Application framework\n",
    "* Programming and configuration model\n",
    "* Infrastructure support\n",
    "\n",
    "##### Problems with Spring\n",
    "\n",
    "* Huge framework\n",
    "* Multiple setup steps\n",
    "* Multiple configuration steps\n",
    "* Multiple build and deploy steps\n",
    "\n",
    "##### Enter Spring Boot\n",
    "\n",
    "* Opinionated\n",
    "* Convention over configuration\n",
    "* Stand alone\n",
    "* Production ready"
   ]
  }
 ],
 "metadata": {
  "kernelspec": {
   "display_name": "Python 3",
   "language": "python",
   "name": "python3"
  },
  "language_info": {
   "name": "python",
   "version": "3.9.7 (tags/v3.9.7:1016ef3, Aug 30 2021, 20:19:38) [MSC v.1929 64 bit (AMD64)]"
  },
  "orig_nbformat": 4,
  "vscode": {
   "interpreter": {
    "hash": "11938c6bc6919ae2720b4d5011047913343b08a43b18698fd82dedb0d4417594"
   }
  }
 },
 "nbformat": 4,
 "nbformat_minor": 2
}
