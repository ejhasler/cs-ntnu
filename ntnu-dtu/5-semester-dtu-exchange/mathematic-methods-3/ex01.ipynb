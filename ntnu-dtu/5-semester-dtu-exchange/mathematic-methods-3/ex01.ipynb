{
 "cells": [
  {
   "cell_type": "markdown",
   "metadata": {},
   "source": [
    "### Exercise 1 - Horners metode, flyttall, halveringsmetoden og fikstpunkt"
   ]
  },
  {
   "cell_type": "markdown",
   "metadata": {},
   "source": [
    "#### Spørsmål 2\n"
   ]
  },
  {
   "cell_type": "code",
   "execution_count": null,
   "metadata": {},
   "outputs": [
    {
     "ename": "",
     "evalue": "",
     "output_type": "error",
     "traceback": [
      "\u001b[1;31mRunning cells with 'c:\\msys64\\mingw64\\bin\\python.exe' requires the ipykernel package.\n",
      "\u001b[1;31mRun the following command to install 'ipykernel' into the Python environment. \n",
      "\u001b[1;31mCommand: 'c:/msys64/mingw64/bin/python.exe -m pip install ipykernel -U --user --force-reinstall'"
     ]
    }
   ],
   "source": [
    "import numpy as np\n",
    "\n",
    "def nest(c, x):\n",
    "    n = len(c) - 1\n",
    "    result = c[n]\n",
    "    for i in range(n - 1, -1, -1):\n",
    "        result = result * x + c[i]\n",
    "    return result\n",
    "\n",
    "def test_feil(funk):\n",
    "    c = np.ones(51)\n",
    "    x = 1.00001\n",
    "    Px = (x**51 - 1) / (x - 1)  # Ekvivalent uttrykk for polynom fra oppgavetekst, evaluert i x=1.00001\n",
    "    error = abs(Px - funk(c, x))\n",
    "    return error\n",
    "\n",
    "# Test funksjonen test_feil med nest-funksjonen\n",
    "test_feil(nest)\n",
    "\n",
    "print(test_feil(nest))"
   ]
  }
 ],
 "metadata": {
  "kernelspec": {
   "display_name": "Python 3",
   "language": "python",
   "name": "python3"
  },
  "language_info": {
   "name": "python",
   "version": "3.11.5"
  },
  "orig_nbformat": 4
 },
 "nbformat": 4,
 "nbformat_minor": 2
}
